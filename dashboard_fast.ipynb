{
 "cells": [
  {
   "cell_type": "code",
   "execution_count": 1,
   "metadata": {},
   "outputs": [],
   "source": [
    "from zipfile import ZipFile\n",
    "from IPython.display import FileLink, FileLinks\n",
    "import os\n",
    "from pprint import pprint\n",
    "\n",
    "import pickle\n",
    "\n",
    "import time\n",
    "import pandas as pd\n",
    "from matplotlib import pyplot as plt\n",
    "import seaborn as sns\n",
    "import random\n",
    "import statistics as stats\n",
    "import numpy as np\n",
    "from scipy.stats import mstats\n",
    "import itertools\n",
    "import scipy.stats\n",
    "\n",
    "from sklearn.ensemble import RandomForestRegressor\n",
    "from sklearn.model_selection import GridSearchCV\n",
    "from sklearn.model_selection import cross_val_score\n",
    "from sklearn.metrics import mean_squared_error\n",
    "from sklearn import metrics\n",
    "from sklearn.model_selection import train_test_split\n",
    "from sklearn.preprocessing import StandardScaler\n",
    "\n",
    "from sklearn.neighbors import KNeighborsRegressor\n",
    "from sklearn.linear_model import LinearRegression\n",
    "from sklearn.decomposition import PCA\n",
    "from sklearn.ensemble import GradientBoostingRegressor\n",
    "\n",
    "from statsmodels.stats.diagnostic import het_breuschpagan\n",
    "from statsmodels.api import OLS\n",
    "\n",
    "import dash\n",
    "from jupyter_dash import JupyterDash\n",
    "import dash_core_components as dcc\n",
    "import dash_html_components as html\n",
    "from dash.dependencies import Input, Output\n",
    "import plotly.express as px"
   ]
  },
  {
   "cell_type": "code",
   "execution_count": 2,
   "metadata": {},
   "outputs": [],
   "source": [
    "def generate_gridsearch(model, X, y, params, train_size=.8):\n",
    "    \n",
    "    X_train, X_test, y_train, y_test = train_test_split(\n",
    "         X,\n",
    "         y,\n",
    "         train_size=train_size,\n",
    "         random_state=42\n",
    "    )\n",
    "    \n",
    "    gscv = GridSearchCV(model, params, cv=5)\n",
    "    gscv.fit(X_train, y_train)\n",
    "    preds = gscv.predict(X_test)\n",
    "    train_preds = gscv.predict(X_train)\n",
    "    \n",
    "    errors = preds - y_test\n",
    "    \n",
    "    print('Mean error %: ', abs(errors).mean())\n",
    "    print('Mean error raw: ', abs(errors).mean() * 4)\n",
    "    print('Best score: ', gscv.best_score_)\n",
    "    print('Best params: ', gscv.best_params_)\n",
    "    print('test rfr r^2: ', gscv.best_estimator_.score(X_test, y_test))\n",
    "    print('train rfr r^2: ', gscv.best_estimator_.score(X_train, y_train))\n",
    "    \n",
    "    sns.scatterplot(\n",
    "        x=preds,\n",
    "        y=y_test\n",
    "    )    \n",
    "    sns.lineplot(\n",
    "        x=y,\n",
    "        y=y\n",
    "    )\n",
    "    sns.scatterplot(\n",
    "    x=train_preds,\n",
    "    y=y_train\n",
    "    )\n",
    "    plt.xlabel('predictions')\n",
    "    plt.ylabel('actual')\n",
    "    plt.plot()\n",
    "    \n",
    "    return gscv.best_estimator_"
   ]
  },
  {
   "cell_type": "code",
   "execution_count": 3,
   "metadata": {},
   "outputs": [
    {
     "name": "stderr",
     "output_type": "stream",
     "text": [
      "/opt/anaconda3/lib/python3.7/site-packages/IPython/core/interactiveshell.py:3058: DtypeWarning: Columns (15) have mixed types. Specify dtype option on import or set low_memory=False.\n",
      "  interactivity=interactivity, compiler=compiler, result=result)\n"
     ]
    }
   ],
   "source": [
    "path = '/Users/kristiancanler/Documents/data/dartmouth_dataset/dataset/my_dfs/pre_survey.csv'\n",
    "pre_survey = pd.read_csv(path)\n",
    "\n",
    "path = '/Users/kristiancanler/Documents/data/dartmouth_dataset/dataset/my_dfs/post_survey.csv'\n",
    "post_survey = pd.read_csv(path)\n",
    "\n",
    "path = '/Users/kristiancanler/Documents/data/dartmouth_dataset/dataset/my_dfs/avg_survey.csv'\n",
    "avg_survey = pd.read_csv(path)\n",
    "\n",
    "path = '/Users/kristiancanler/Documents/data/dartmouth_dataset/dataset/my_dfs/latlon.csv'\n",
    "latlon = pd.read_csv(path)\n",
    "\n",
    "path = '/Users/kristiancanler/Documents/data/dartmouth_dataset/dataset/my_dfs/convos.csv'\n",
    "convo = pd.read_csv(path)\n",
    "\n",
    "path = '/Users/kristiancanler/Documents/data/dartmouth_dataset/dataset/education/grades.csv'\n",
    "grades = pd.read_csv(path)\n",
    "\n",
    "path = '/Users/kristiancanler/Documents/data/dartmouth_dataset/dataset/my_dfs/gps.csv'\n",
    "gps = pd.read_csv(path)\n",
    "\n",
    "path = '/Users/kristiancanler/Documents/data/dartmouth_dataset/dataset/my_dfs/latlon_kmeans.csv'\n",
    "latlon_kmeans = pd.read_csv(path)"
   ]
  },
  {
   "cell_type": "code",
   "execution_count": 4,
   "metadata": {},
   "outputs": [
    {
     "data": {
      "text/plain": [
       "Index(['uid', 'overnight_primary_bld', 'overnight_primary_type',\n",
       "       'overnight_secondary_bld', 'overnight_secondary_type',\n",
       "       'daytime_primary_bld', 'daytime_primary_type', 'daytime_secondary_bld',\n",
       "       'daytime_secondary_type', 'daytime_tertiary_bld',\n",
       "       'daytime_tertiary_type', 'overnight_primary_cluster',\n",
       "       'overnight_secondary_cluster', 'daytime_primary_cluster',\n",
       "       'daytime_secondary_cluster', 'daytime_tertiary_cluster'],\n",
       "      dtype='object')"
      ]
     },
     "execution_count": 4,
     "metadata": {},
     "output_type": "execute_result"
    }
   ],
   "source": [
    "latlon.columns"
   ]
  },
  {
   "cell_type": "code",
   "execution_count": 5,
   "metadata": {},
   "outputs": [],
   "source": [
    "# Stripping 'u' from id in uid column in grades df\n",
    "grades.uid = grades.uid.str.extract('(\\d\\d)').astype(int)\n",
    "\n",
    "# Renaming grades columns\n",
    "grades.columns = grades.columns.str.strip().str.replace(' ', '_')"
   ]
  },
  {
   "cell_type": "markdown",
   "metadata": {},
   "source": [
    "# GPA Prediction"
   ]
  },
  {
   "cell_type": "code",
   "execution_count": 6,
   "metadata": {},
   "outputs": [],
   "source": [
    "convo_copy = convo.copy()\n",
    "\n",
    "data = convo_copy.merge(grades, on='uid', how='inner'\n",
    "           ).merge(latlon, on='uid', how='inner')"
   ]
  },
  {
   "cell_type": "code",
   "execution_count": 7,
   "metadata": {},
   "outputs": [],
   "source": [
    "latlon_vars = [\n",
    "   'overnight_primary_bld', 'overnight_primary_type',\n",
    "   'overnight_secondary_bld', 'overnight_secondary_type',\n",
    "   'daytime_primary_bld', 'daytime_primary_type', 'daytime_secondary_bld',\n",
    "   'daytime_secondary_type', 'daytime_tertiary_bld',\n",
    "   'daytime_tertiary_type', 'daytime_tertiary_type'\n",
    "    ]\n",
    "\n",
    "\n",
    "latlon_dummies = pd.get_dummies(\n",
    "    data[latlon_vars]\n",
    ")\n",
    "\n",
    "\n",
    "data = data.merge(latlon_dummies, right_index=True, left_index=True)"
   ]
  },
  {
   "cell_type": "code",
   "execution_count": 8,
   "metadata": {},
   "outputs": [
    {
     "data": {
      "text/plain": [
       "(array([ 2.,  0.,  1.,  0.,  0.,  3.,  0.,  7.,  3., 14.]),\n",
       " array([1. , 1.3, 1.6, 1.9, 2.2, 2.5, 2.8, 3.1, 3.4, 3.7, 4. ]),\n",
       " <a list of 10 Patch objects>)"
      ]
     },
     "execution_count": 8,
     "metadata": {},
     "output_type": "execute_result"
    },
    {
     "data": {
      "image/png": "[encoded data removed]",
      "text/plain": [
       "<Figure size 432x288 with 1 Axes>"
      ]
     },
     "metadata": {
      "needs_background": "light"
     },
     "output_type": "display_data"
    }
   ],
   "source": [
    "plt.hist(data.gpa_13s)"
   ]
  },
  {
   "cell_type": "code",
   "execution_count": 9,
   "metadata": {},
   "outputs": [],
   "source": [
    "data.gpa_13s = mstats.winsorize(data.gpa_13s, (.1, 0))"
   ]
  },
  {
   "cell_type": "code",
   "execution_count": 10,
   "metadata": {},
   "outputs": [
    {
     "data": {
      "text/plain": [
       "28.5"
      ]
     },
     "execution_count": 10,
     "metadata": {},
     "output_type": "execute_result"
    }
   ],
   "source": [
    "len(data) * .95"
   ]
  },
  {
   "cell_type": "code",
   "execution_count": 11,
   "metadata": {},
   "outputs": [
    {
     "name": "stdout",
     "output_type": "stream",
     "text": [
      "['uid', 'avg_length', 'num', 'total_min', 'diff_avg_length', 'diff_num', 'diff_total_min', 'kmeans0', 'kmeans1', 'kmeans2', 'kmeans3', 'kmeans4', 'gpa_all', 'gpa_13s', 'cs_65', 'overnight_primary_bld', 'overnight_primary_type', 'overnight_secondary_bld', 'overnight_secondary_type', 'daytime_primary_bld']\n"
     ]
    }
   ],
   "source": [
    "print([col for col in data.columns[:20]])"
   ]
  },
  {
   "cell_type": "code",
   "execution_count": 12,
   "metadata": {},
   "outputs": [
    {
     "data": {
      "text/html": [
       "<div>\n",
       "<style scoped>\n",
       "    .dataframe tbody tr th:only-of-type {\n",
       "        vertical-align: middle;\n",
       "    }\n",
       "\n",
       "    .dataframe tbody tr th {\n",
       "        vertical-align: top;\n",
       "    }\n",
       "\n",
       "    .dataframe thead th {\n",
       "        text-align: right;\n",
       "    }\n",
       "</style>\n",
       "<table border=\"1\" class=\"dataframe\">\n",
       "  <thead>\n",
       "    <tr style=\"text-align: right;\">\n",
       "      <th></th>\n",
       "      <th>gpa_13s</th>\n",
       "      <th>cs_65</th>\n",
       "      <th>gpa_all</th>\n",
       "      <th>avg_length</th>\n",
       "      <th>num</th>\n",
       "    </tr>\n",
       "  </thead>\n",
       "  <tbody>\n",
       "    <tr>\n",
       "      <td>gpa_13s</td>\n",
       "      <td>1.000000</td>\n",
       "      <td>0.515109</td>\n",
       "      <td>0.595979</td>\n",
       "      <td>-0.089221</td>\n",
       "      <td>0.080671</td>\n",
       "    </tr>\n",
       "    <tr>\n",
       "      <td>cs_65</td>\n",
       "      <td>0.515109</td>\n",
       "      <td>1.000000</td>\n",
       "      <td>0.527970</td>\n",
       "      <td>0.233026</td>\n",
       "      <td>0.212320</td>\n",
       "    </tr>\n",
       "    <tr>\n",
       "      <td>gpa_all</td>\n",
       "      <td>0.595979</td>\n",
       "      <td>0.527970</td>\n",
       "      <td>1.000000</td>\n",
       "      <td>-0.153381</td>\n",
       "      <td>0.336822</td>\n",
       "    </tr>\n",
       "    <tr>\n",
       "      <td>avg_length</td>\n",
       "      <td>-0.089221</td>\n",
       "      <td>0.233026</td>\n",
       "      <td>-0.153381</td>\n",
       "      <td>1.000000</td>\n",
       "      <td>-0.359791</td>\n",
       "    </tr>\n",
       "    <tr>\n",
       "      <td>num</td>\n",
       "      <td>0.080671</td>\n",
       "      <td>0.212320</td>\n",
       "      <td>0.336822</td>\n",
       "      <td>-0.359791</td>\n",
       "      <td>1.000000</td>\n",
       "    </tr>\n",
       "  </tbody>\n",
       "</table>\n",
       "</div>"
      ],
      "text/plain": [
       "             gpa_13s     cs_65   gpa_all  avg_length       num\n",
       "gpa_13s     1.000000  0.515109  0.595979   -0.089221  0.080671\n",
       "cs_65       0.515109  1.000000  0.527970    0.233026  0.212320\n",
       "gpa_all     0.595979  0.527970  1.000000   -0.153381  0.336822\n",
       "avg_length -0.089221  0.233026 -0.153381    1.000000 -0.359791\n",
       "num         0.080671  0.212320  0.336822   -0.359791  1.000000"
      ]
     },
     "execution_count": 12,
     "metadata": {},
     "output_type": "execute_result"
    }
   ],
   "source": [
    "data[['gpa_13s', 'cs_65', 'gpa_all', 'avg_length', 'num']].corr()"
   ]
  },
  {
   "cell_type": "code",
   "execution_count": 13,
   "metadata": {},
   "outputs": [
    {
     "name": "stderr",
     "output_type": "stream",
     "text": [
      "/opt/anaconda3/lib/python3.7/site-packages/sklearn/model_selection/_search.py:814: DeprecationWarning: The default of the `iid` parameter will change from True to False in version 0.22 and will be removed in 0.24. This will change numeric results when test-set sizes are unequal.\n",
      "  DeprecationWarning)\n"
     ]
    },
    {
     "name": "stdout",
     "output_type": "stream",
     "text": [
      "Mean error %:  0.14814814858333358\n",
      "Mean error raw:  0.5925925943333343\n",
      "Best score:  -0.32471096739674377\n",
      "Best params:  {'leaf_size': 1, 'n_neighbors': 6}\n",
      "test rfr r^2:  0.6063052661888404\n",
      "train rfr r^2:  0.2055503480377494\n",
      "CPU times: user 553 ms, sys: 21.3 ms, total: 574 ms\n",
      "Wall time: 638 ms\n"
     ]
    },
    {
     "data": {
      "image/png": "[encoded data removed]",
      "text/plain": [
       "<Figure size 432x288 with 1 Axes>"
      ]
     },
     "metadata": {
      "needs_background": "light"
     },
     "output_type": "display_data"
    }
   ],
   "source": [
    "%%time\n",
    "# K-Nearest Neighbor Regression\n",
    "\n",
    "\n",
    "params = {'n_neighbors': [6],\n",
    "          'leaf_size': [1]}\n",
    "\n",
    "knn = generate_gridsearch(\n",
    "    KNeighborsRegressor(),\n",
    "    data[['avg_length', 'gpa_all']],\n",
    "    data.gpa_13s,\n",
    "    params,\n",
    "    train_size=.95\n",
    ")"
   ]
  },
  {
   "cell_type": "code",
   "execution_count": 14,
   "metadata": {},
   "outputs": [
    {
     "name": "stderr",
     "output_type": "stream",
     "text": [
      "/opt/anaconda3/lib/python3.7/site-packages/sklearn/model_selection/_search.py:814: DeprecationWarning: The default of the `iid` parameter will change from True to False in version 0.22 and will be removed in 0.24. This will change numeric results when test-set sizes are unequal.\n",
      "  DeprecationWarning)\n"
     ]
    },
    {
     "name": "stdout",
     "output_type": "stream",
     "text": [
      "Mean error %:  0.2825925929666697\n",
      "Mean error raw:  1.1303703718666789\n",
      "Best score:  -0.5266903733711145\n",
      "Best params:  {'max_depth': 10, 'n_estimators': 150}\n",
      "test rfr r^2:  -0.43965551614928766\n",
      "train rfr r^2:  0.8254259514402242\n",
      "CPU times: user 2.02 s, sys: 49.8 ms, total: 2.07 s\n",
      "Wall time: 2.18 s\n"
     ]
    },
    {
     "data": {
      "image/png": "[encoded data removed]",
      "text/plain": [
       "<Figure size 432x288 with 1 Axes>"
      ]
     },
     "metadata": {
      "needs_background": "light"
     },
     "output_type": "display_data"
    }
   ],
   "source": [
    "%%time\n",
    "# Random Forest Regressor on 'num' and 'gpa_all'\n",
    "\n",
    "params = {'n_estimators': [150],\n",
    "          'max_depth': [10]}\n",
    "\n",
    "rfr = generate_gridsearch(\n",
    "    RandomForestRegressor(random_state=42),\n",
    "    data[['num', 'gpa_all']],\n",
    "    data.gpa_13s,\n",
    "    params,\n",
    "    train_size=.95\n",
    ")"
   ]
  },
  {
   "cell_type": "code",
   "execution_count": 15,
   "metadata": {
    "scrolled": false
   },
   "outputs": [
    {
     "ename": "TypeError",
     "evalue": "generate_gridsearch() missing 1 required positional argument: 'params'",
     "output_type": "error",
     "traceback": [
      "\u001b[0;31m---------------------------------------------------------------------------\u001b[0m",
      "\u001b[0;31mTypeError\u001b[0m                                 Traceback (most recent call last)",
      "\u001b[0;32m<timed exec>\u001b[0m in \u001b[0;36m<module>\u001b[0;34m\u001b[0m\n",
      "\u001b[0;31mTypeError\u001b[0m: generate_gridsearch() missing 1 required positional argument: 'params'"
     ]
    }
   ],
   "source": [
    "%%time\n",
    "# Random Forest Regressor on 'num' and 'avg_length'\n",
    "\n",
    "params = {'n_estimators': [200],\n",
    "          'max_depth': [9]}\n",
    "\n",
    "rfr = generate_gridsearch(\n",
    "    data[['avg_length', 'num']],\n",
    "    data.gpa_13s,\n",
    "    params,\n",
    "    train_size=.95\n",
    ")"
   ]
  },
  {
   "cell_type": "code",
   "execution_count": 16,
   "metadata": {
    "scrolled": true
   },
   "outputs": [
    {
     "data": {
      "text/plain": [
       "(array([1., 1., 1., 1., 2., 3., 3., 3., 2., 1., 4., 2., 0., 2., 2., 1., 0.,\n",
       "        0., 0., 1.]),\n",
       " array([ 5.96273506,  6.46085326,  6.95897147,  7.45708967,  7.95520787,\n",
       "         8.45332607,  8.95144428,  9.44956248,  9.94768068, 10.44579888,\n",
       "        10.94391708, 11.44203529, 11.94015349, 12.43827169, 12.93638989,\n",
       "        13.4345081 , 13.9326263 , 14.4307445 , 14.9288627 , 15.4269809 ,\n",
       "        15.92509911]),\n",
       " <a list of 20 Patch objects>)"
      ]
     },
     "execution_count": 16,
     "metadata": {},
     "output_type": "execute_result"
    },
    {
     "data": {
      "image/png": "[encoded data removed]",
      "text/plain": [
       "<Figure size 432x288 with 1 Axes>"
      ]
     },
     "metadata": {
      "needs_background": "light"
     },
     "output_type": "display_data"
    }
   ],
   "source": [
    "plt.hist(data.avg_length / 66, bins=20)"
   ]
  },
  {
   "cell_type": "code",
   "execution_count": 17,
   "metadata": {},
   "outputs": [
    {
     "name": "stderr",
     "output_type": "stream",
     "text": [
      "/opt/anaconda3/lib/python3.7/site-packages/sklearn/model_selection/_search.py:814: DeprecationWarning: The default of the `iid` parameter will change from True to False in version 0.22 and will be removed in 0.24. This will change numeric results when test-set sizes are unequal.\n",
      "  DeprecationWarning)\n"
     ]
    },
    {
     "name": "stdout",
     "output_type": "stream",
     "text": [
      "Mean error %:  0.11941658404785323\n",
      "Mean error raw:  0.4776663361914129\n",
      "Best score:  -1.055722693671828\n",
      "Best params:  {'learning_rate': 0.05, 'n_estimators': 70}\n",
      "test rfr r^2:  0.6004937555415341\n",
      "train rfr r^2:  0.9227362767813067\n"
     ]
    },
    {
     "data": {
      "image/png": "[encoded data removed]",
      "text/plain": [
       "<Figure size 432x288 with 1 Axes>"
      ]
     },
     "metadata": {
      "needs_background": "light"
     },
     "output_type": "display_data"
    },
    {
     "name": "stderr",
     "output_type": "stream",
     "text": [
      "/opt/anaconda3/lib/python3.7/site-packages/sklearn/model_selection/_search.py:814: DeprecationWarning: The default of the `iid` parameter will change from True to False in version 0.22 and will be removed in 0.24. This will change numeric results when test-set sizes are unequal.\n",
      "  DeprecationWarning)\n"
     ]
    },
    {
     "name": "stdout",
     "output_type": "stream",
     "text": [
      "Mean error %:  0.13405129383766448\n",
      "Mean error raw:  0.5362051753506579\n",
      "Best score:  -1.121472279509725\n",
      "Best params:  {'learning_rate': 0.1, 'n_estimators': 70}\n",
      "test rfr r^2:  0.5307293188084891\n",
      "train rfr r^2:  0.9893675321028265\n"
     ]
    },
    {
     "data": {
      "image/png": "[encoded data removed]",
      "text/plain": [
       "<Figure size 432x288 with 1 Axes>"
      ]
     },
     "metadata": {
      "needs_background": "light"
     },
     "output_type": "display_data"
    },
    {
     "name": "stderr",
     "output_type": "stream",
     "text": [
      "/opt/anaconda3/lib/python3.7/site-packages/sklearn/model_selection/_search.py:814: DeprecationWarning: The default of the `iid` parameter will change from True to False in version 0.22 and will be removed in 0.24. This will change numeric results when test-set sizes are unequal.\n",
      "  DeprecationWarning)\n"
     ]
    },
    {
     "name": "stdout",
     "output_type": "stream",
     "text": [
      "Mean error %:  0.19416990611809246\n",
      "Mean error raw:  0.7766796244723698\n",
      "Best score:  -1.1399893213224084\n",
      "Best params:  {'learning_rate': 0.2, 'n_estimators': 70}\n",
      "test rfr r^2:  -0.06746991153944881\n",
      "train rfr r^2:  0.9998759154842166\n"
     ]
    },
    {
     "data": {
      "image/png": "[encoded data removed]",
      "text/plain": [
       "<Figure size 432x288 with 1 Axes>"
      ]
     },
     "metadata": {
      "needs_background": "light"
     },
     "output_type": "display_data"
    },
    {
     "name": "stderr",
     "output_type": "stream",
     "text": [
      "/opt/anaconda3/lib/python3.7/site-packages/sklearn/model_selection/_search.py:814: DeprecationWarning: The default of the `iid` parameter will change from True to False in version 0.22 and will be removed in 0.24. This will change numeric results when test-set sizes are unequal.\n",
      "  DeprecationWarning)\n"
     ]
    },
    {
     "name": "stdout",
     "output_type": "stream",
     "text": [
      "Mean error %:  0.15642122509372003\n",
      "Mean error raw:  0.6256849003748801\n",
      "Best score:  -1.3795882896047098\n",
      "Best params:  {'learning_rate': 0.3, 'n_estimators': 70}\n",
      "test rfr r^2:  0.06861347990047195\n",
      "train rfr r^2:  0.9999992960117982\n"
     ]
    },
    {
     "data": {
      "image/png": "[encoded data removed]",
      "text/plain": [
       "<Figure size 432x288 with 1 Axes>"
      ]
     },
     "metadata": {
      "needs_background": "light"
     },
     "output_type": "display_data"
    },
    {
     "name": "stderr",
     "output_type": "stream",
     "text": [
      "/opt/anaconda3/lib/python3.7/site-packages/sklearn/model_selection/_search.py:814: DeprecationWarning: The default of the `iid` parameter will change from True to False in version 0.22 and will be removed in 0.24. This will change numeric results when test-set sizes are unequal.\n",
      "  DeprecationWarning)\n"
     ]
    },
    {
     "name": "stdout",
     "output_type": "stream",
     "text": [
      "Mean error %:  0.4574664621237778\n",
      "Mean error raw:  1.8298658484951111\n",
      "Best score:  -1.2470083474264262\n",
      "Best params:  {'learning_rate': 0.7, 'n_estimators': 70}\n",
      "test rfr r^2:  -4.02642515025085\n",
      "train rfr r^2:  0.9999996117620628\n"
     ]
    },
    {
     "data": {
      "image/png": "[encoded data removed]",
      "text/plain": [
       "<Figure size 432x288 with 1 Axes>"
      ]
     },
     "metadata": {
      "needs_background": "light"
     },
     "output_type": "display_data"
    },
    {
     "name": "stdout",
     "output_type": "stream",
     "text": [
      "CPU times: user 3.65 s, sys: 105 ms, total: 3.76 s\n",
      "Wall time: 3.79 s\n"
     ]
    }
   ],
   "source": [
    "%%time\n",
    "# Gradient Boosting Regressor\n",
    "\n",
    "for i in [.05, .1, .2, .3, .7]:\n",
    "    params = {'n_estimators': [70],\n",
    "              'learning_rate': [i]}\n",
    "    gbr = generate_gridsearch(\n",
    "        GradientBoostingRegressor(random_state=42),\n",
    "        data[['avg_length', 'gpa_all']],\n",
    "        data.gpa_13s,\n",
    "        params,\n",
    "        train_size=.90\n",
    "    )\n",
    "    plt.show()"
   ]
  },
  {
   "cell_type": "markdown",
   "metadata": {},
   "source": [
    "With the higher learning rates, we're beginning to see overfitting. This is clear first of all because our r-squared for the training set is nearing in on 100%, but the r-squared for the test set is nearing zero or becoming negative. We see the same thing with the visualization, where as the training set (in orange) approaches more and more closely the line of \"perfect prediction\", the test set (in blue) goes further away."
   ]
  },
  {
   "cell_type": "code",
   "execution_count": 18,
   "metadata": {
    "scrolled": true
   },
   "outputs": [
    {
     "data": {
      "image/png": "[encoded data removed]",
      "text/plain": [
       "<Figure size 432x288 with 1 Axes>"
      ]
     },
     "metadata": {
      "needs_background": "light"
     },
     "output_type": "display_data"
    },
    {
     "name": "stdout",
     "output_type": "stream",
     "text": [
      "CPU times: user 447 ms, sys: 9.06 ms, total: 456 ms\n",
      "Wall time: 470 ms\n"
     ]
    }
   ],
   "source": [
    "%%time\n",
    "# Gradient Boosting Regressor\n",
    "\n",
    "learning_rates = np.arange(.03, .07, .005)\n",
    "\n",
    "mean_errors = []\n",
    "test_r2s = []\n",
    "\n",
    "X_train, X_test, y_train, y_test = train_test_split(\n",
    "     data[['avg_length', 'gpa_all']],\n",
    "     data.gpa_13s,\n",
    "     train_size=.9,\n",
    "     random_state=42\n",
    ")\n",
    "\n",
    "for i in learning_rates:\n",
    "    \n",
    "    gbr = GradientBoostingRegressor(\n",
    "        random_state=42,\n",
    "        n_estimators=70,\n",
    "        learning_rate=i\n",
    "    )\n",
    "    gbr.fit(X_train, y_train)\n",
    "    preds = gbr.predict(X_test)\n",
    "    train_preds = gbr.predict(X_train)\n",
    "    \n",
    "    errors = preds - y_test\n",
    "    \n",
    "    mean_errors.append(abs(errors).mean())\n",
    "    test_r2s.append(gbr.score(X_test, y_test))\n",
    "\n",
    "sns.lineplot(\n",
    "    x=learning_rates,\n",
    "    y=mean_errors\n",
    ")\n",
    "sns.lineplot(\n",
    "    x=learning_rates,\n",
    "    y=test_r2s\n",
    ")\n",
    "plt.show()"
   ]
  },
  {
   "cell_type": "markdown",
   "metadata": {},
   "source": [
    "A learning rate of .04 is our best bet!"
   ]
  },
  {
   "cell_type": "code",
   "execution_count": 19,
   "metadata": {
    "scrolled": true
   },
   "outputs": [
    {
     "name": "stdout",
     "output_type": "stream",
     "text": [
      "Mean error %:  0.09198579301270964\n",
      "Mean error raw:  0.36794317205083854\n",
      "Best score:  -0.9581120755349578\n",
      "Best params:  {'criterion': 'mse', 'learning_rate': 0.04, 'max_depth': 3, 'min_impurity_decrease': 5e-05, 'n_estimators': 70}\n",
      "test rfr r^2:  0.6734508548589119\n",
      "train rfr r^2:  0.8838491044861808\n"
     ]
    },
    {
     "name": "stderr",
     "output_type": "stream",
     "text": [
      "/opt/anaconda3/lib/python3.7/site-packages/sklearn/model_selection/_search.py:814: DeprecationWarning: The default of the `iid` parameter will change from True to False in version 0.22 and will be removed in 0.24. This will change numeric results when test-set sizes are unequal.\n",
      "  DeprecationWarning)\n"
     ]
    },
    {
     "name": "stdout",
     "output_type": "stream",
     "text": [
      "CPU times: user 493 ms, sys: 21.7 ms, total: 515 ms\n",
      "Wall time: 511 ms\n"
     ]
    },
    {
     "data": {
      "image/png": "[encoded data removed]",
      "text/plain": [
       "<Figure size 432x288 with 1 Axes>"
      ]
     },
     "metadata": {
      "needs_background": "light"
     },
     "output_type": "display_data"
    }
   ],
   "source": [
    "%%time\n",
    "params = {'n_estimators': [70],\n",
    "          'learning_rate': [.04],\n",
    "          'max_depth': [3],\n",
    "          'criterion': ['mse'],\n",
    "          'min_impurity_decrease': [.00005]}\n",
    "\n",
    "gbr = generate_gridsearch(\n",
    "    GradientBoostingRegressor(random_state=42),\n",
    "    data[['avg_length', 'gpa_all']],\n",
    "    data.gpa_13s,\n",
    "    params,\n",
    "    train_size=.9\n",
    ")"
   ]
  },
  {
   "cell_type": "code",
   "execution_count": 20,
   "metadata": {
    "scrolled": true
   },
   "outputs": [
    {
     "data": {
      "image/png": "[encoded data removed]",
      "text/plain": [
       "<Figure size 864x360 with 2 Axes>"
      ]
     },
     "metadata": {
      "needs_background": "light"
     },
     "output_type": "display_data"
    }
   ],
   "source": [
    "preds = gbr.predict(data[['avg_length', 'gpa_all']])\n",
    "\n",
    "\n",
    "plt.figure(figsize=(12,5))\n",
    "plt.subplot(121)\n",
    "sns.scatterplot(\n",
    "    x=data['gpa_all'],\n",
    "    y=data.gpa_13s,\n",
    "    label='Actual GPAs'\n",
    ")\n",
    "sns.lineplot(\n",
    "    x=data.gpa_13s,\n",
    "    y=data.gpa_13s\n",
    ")\n",
    "sns.scatterplot(\n",
    "    x=data['gpa_all'],\n",
    "    y=preds,\n",
    "    label='Predicted with Boosting'\n",
    ")\n",
    "sns.lineplot(\n",
    "    x=preds,\n",
    "    y=preds\n",
    ")\n",
    "plt.legend()\n",
    "plt.title('Scattered against Cumulative GPA')\n",
    "\n",
    "plt.subplot(122)\n",
    "sns.scatterplot(\n",
    "    x=data['avg_length'],\n",
    "    y=data.gpa_13s,\n",
    "    label='Actual GPAs'\n",
    ")\n",
    "sns.scatterplot(\n",
    "    x=data['avg_length'],\n",
    "    y=preds,\n",
    "    label='Predicted with Boosting'\n",
    ")\n",
    "\n",
    "plt.legend()\n",
    "plt.title('Scattered against Conversation Length')\n",
    "\n",
    "plt.show()"
   ]
  },
  {
   "cell_type": "code",
   "execution_count": 21,
   "metadata": {},
   "outputs": [
    {
     "data": {
      "text/plain": [
       "<matplotlib.axes._subplots.AxesSubplot at 0x1c24935590>"
      ]
     },
     "execution_count": 21,
     "metadata": {},
     "output_type": "execute_result"
    },
    {
     "data": {
      "image/png": "[encoded data removed]",
      "text/plain": [
       "<Figure size 1080x360 with 3 Axes>"
      ]
     },
     "metadata": {
      "needs_background": "light"
     },
     "output_type": "display_data"
    }
   ],
   "source": [
    "plt.figure(figsize=(15,5))\n",
    "plt.subplot(131)\n",
    "sns.scatterplot(\n",
    "    x=data.gpa_all,\n",
    "    y=data.gpa_13s\n",
    ")\n",
    "plt.subplot(132)\n",
    "sns.scatterplot(\n",
    "    x=data.avg_length,\n",
    "    y=data.gpa_13s\n",
    ")\n",
    "plt.subplot(133)\n",
    "sns.scatterplot(\n",
    "    x=data.avg_length * data.gpa_all,\n",
    "    y=data.gpa_13s\n",
    ")"
   ]
  },
  {
   "cell_type": "markdown",
   "metadata": {},
   "source": [
    "# Dash Web App"
   ]
  },
  {
   "cell_type": "code",
   "execution_count": 22,
   "metadata": {},
   "outputs": [],
   "source": [
    "pickle.dump(gbr, open(\"gbr_avglength_gpa.py\", \"wb\"))\n",
    "\n",
    "file = open(\"gbr_avglength_gpa.py\", 'rb')\n",
    "gbr_pickle = pickle.load(file)"
   ]
  },
  {
   "cell_type": "code",
   "execution_count": 23,
   "metadata": {},
   "outputs": [
    {
     "data": {
      "text/plain": [
       "0.8843667993065024"
      ]
     },
     "execution_count": 23,
     "metadata": {},
     "output_type": "execute_result"
    }
   ],
   "source": [
    "gbr_pickle.score(\n",
    "    data[['avg_length', 'gpa_all']], data.gpa_13s)"
   ]
  },
  {
   "cell_type": "code",
   "execution_count": 24,
   "metadata": {
    "scrolled": true
   },
   "outputs": [],
   "source": [
    "# external_stylesheets = ['https://codepen.io/chriddyp/pen/bWLwgP.css']\n",
    "\n",
    "# app = JupyterDash(__name__, external_stylesheets=external_stylesheets)\n",
    "\n",
    "# app.layout = html.Div([\n",
    "#     html.H6(\"What is your current cumulative GPA?\"),\n",
    "#     html.Div([dcc.Input(id='my-input', value='', type='text')]),\n",
    "#     html.H6(\"How long would you say these conversations are usually? Most conversations are about ten minutes, give or take a couple minutes.\"),\n",
    "#     dcc.Slider(\n",
    "#         id='length--slider',\n",
    "#         min=data.avg_length.min(),\n",
    "#         max=data.avg_length.max(),\n",
    "#         value=data.avg_length.min(),\n",
    "#         marks={length: str(round(length / 66, 1)) for length in\n",
    "#                np.arange(data.avg_length.min(), data.avg_length.max(),\n",
    "#                          (data.avg_length.max() - data.avg_length.min()) / 12\n",
    "#                         )\n",
    "#               },\n",
    "#         step=None\n",
    "#     ),\n",
    "#     html.Br(),\n",
    "#     html.Div(id='my-output'),\n",
    "\n",
    "# ])\n",
    "\n",
    "\n",
    "# @app.callback(\n",
    "#     Output(component_id='my-output', component_property='children'),\n",
    "#     [Input(component_id='my-input', component_property='value'),\n",
    "#      Input(component_id='length--slider', component_property='value')]\n",
    "# )  \n",
    "# def update_output_div(my_input, length_value):\n",
    "#     pred = gbr_pickle.predict(\n",
    "#         np.array([float(length_value), my_input]).reshape(1,-1)\n",
    "#     )\n",
    "#     pred = round(pred[0], 2)\n",
    "#     return 'Your predicted spring GPA is: {}'.format(pred)\n",
    "\n",
    "\n",
    "# if __name__ == '__main__':\n",
    "#     app.run_server(mode='inline', debug=False)"
   ]
  },
  {
   "cell_type": "code",
   "execution_count": null,
   "metadata": {},
   "outputs": [
    {
     "name": "stdout",
     "output_type": "stream",
     "text": [
      "Dash is running on http://127.0.0.1:8050/\n",
      "\n",
      " Warning: This is a development server. Do not use app.run_server\n",
      " in production, use a production WSGI server like gunicorn instead.\n",
      "\n",
      " * Serving Flask app \"__main__\" (lazy loading)\n",
      " * Environment: production\n",
      "   WARNING: This is a development server. Do not use it in a production deployment.\n",
      "   Use a production WSGI server instead.\n",
      " * Debug mode: off\n"
     ]
    },
    {
     "name": "stderr",
     "output_type": "stream",
     "text": [
      " * Running on http://127.0.0.1:8050/ (Press CTRL+C to quit)\n",
      "127.0.0.1 - - [17/Sep/2020 18:40:42] \"GET / HTTP/1.1\" 200 -\n",
      "127.0.0.1 - - [17/Sep/2020 18:40:42] \"GET /_dash-layout HTTP/1.1\" 200 -\n",
      "127.0.0.1 - - [17/Sep/2020 18:40:42] \"GET /_dash-dependencies HTTP/1.1\" 200 -\n"
     ]
    },
    {
     "name": "stdout",
     "output_type": "stream",
     "text": [
      "Exception on /_dash-update-component [POST]\n",
      "Traceback (most recent call last):\n",
      "  File \"/opt/anaconda3/lib/python3.7/site-packages/flask/app.py\", line 2446, in wsgi_app\n",
      "    response = self.full_dispatch_request()\n",
      "  File \"/opt/anaconda3/lib/python3.7/site-packages/flask/app.py\", line 1951, in full_dispatch_request\n",
      "    rv = self.handle_user_exception(e)\n",
      "  File \"/opt/anaconda3/lib/python3.7/site-packages/flask/app.py\", line 1820, in handle_user_exception\n",
      "    reraise(exc_type, exc_value, tb)\n",
      "  File \"/opt/anaconda3/lib/python3.7/site-packages/flask/_compat.py\", line 39, in reraise\n",
      "    raise value\n",
      "  File \"/opt/anaconda3/lib/python3.7/site-packages/flask/app.py\", line 1949, in full_dispatch_request\n",
      "    rv = self.dispatch_request()\n",
      "  File \"/opt/anaconda3/lib/python3.7/site-packages/flask/app.py\", line 1935, in dispatch_request\n",
      "    return self.view_functions[rule.endpoint](**req.view_args)\n",
      "  File \"/opt/anaconda3/lib/python3.7/site-packages/dash/dash.py\", line 1050, in dispatch\n",
      "    response.set_data(func(*args, outputs_list=outputs_list))\n",
      "  File \"/opt/anaconda3/lib/python3.7/site-packages/dash/dash.py\", line 985, in add_context\n",
      "    output_value = func(*args, **kwargs)  # %% callback invoked %%\n",
      "  File \"<ipython-input-25-90c059cd80b2>\", line 40, in update_output_div\n",
      "    np.array([length_value, gpa_value]).reshape(1,-1)\n",
      "  File \"/opt/anaconda3/lib/python3.7/site-packages/sklearn/ensemble/gradient_boosting.py\", line 2530, in predict\n",
      "    X = check_array(X, dtype=DTYPE, order=\"C\", accept_sparse='csr')\n",
      "  File \"/opt/anaconda3/lib/python3.7/site-packages/sklearn/utils/validation.py\", line 542, in check_array\n",
      "    allow_nan=force_all_finite == 'allow-nan')\n",
      "  File \"/opt/anaconda3/lib/python3.7/site-packages/sklearn/utils/validation.py\", line 56, in _assert_all_finite\n",
      "    raise ValueError(msg_err.format(type_err, X.dtype))\n",
      "ValueError: Input contains NaN, infinity or a value too large for dtype('float32').\n"
     ]
    },
    {
     "name": "stderr",
     "output_type": "stream",
     "text": [
      "127.0.0.1 - - [17/Sep/2020 18:40:43] \"POST /_dash-update-component HTTP/1.1\" 500 -\n",
      "127.0.0.1 - - [17/Sep/2020 18:40:44] \"POST /_dash-update-component HTTP/1.1\" 200 -\n",
      "127.0.0.1 - - [17/Sep/2020 18:40:44] \"POST /_dash-update-component HTTP/1.1\" 200 -\n",
      "127.0.0.1 - - [17/Sep/2020 18:40:45] \"POST /_dash-update-component HTTP/1.1\" 200 -\n",
      "127.0.0.1 - - [17/Sep/2020 18:40:46] \"POST /_dash-update-component HTTP/1.1\" 200 -\n",
      "127.0.0.1 - - [17/Sep/2020 18:40:48] \"POST /_dash-update-component HTTP/1.1\" 200 -\n",
      "127.0.0.1 - - [17/Sep/2020 18:40:49] \"POST /_dash-update-component HTTP/1.1\" 200 -\n",
      "127.0.0.1 - - [17/Sep/2020 18:40:51] \"POST /_dash-update-component HTTP/1.1\" 200 -\n",
      "127.0.0.1 - - [17/Sep/2020 18:40:52] \"POST /_dash-update-component HTTP/1.1\" 200 -\n",
      "127.0.0.1 - - [17/Sep/2020 18:40:53] \"POST /_dash-update-component HTTP/1.1\" 200 -\n",
      "127.0.0.1 - - [17/Sep/2020 18:40:54] \"POST /_dash-update-component HTTP/1.1\" 200 -\n"
     ]
    }
   ],
   "source": [
    "external_stylesheets = ['https://codepen.io/chriddyp/pen/bWLwgP.css']\n",
    "\n",
    "app = dash.Dash(__name__, external_stylesheets=external_stylesheets)\n",
    "\n",
    "app.layout = html.Div([\n",
    "    html.H6(\"What is your current cumulative GPA?\"),\n",
    "    dcc.Slider(\n",
    "        id='gpa--slider',\n",
    "        min=data.gpa_all.min(),\n",
    "        max=data.gpa_all.max(),\n",
    "        marks={round(gpa, 1): str(round(gpa,1)) for gpa in\n",
    "               np.arange(2.5, 4, 0.1)\n",
    "              },\n",
    "        step=None\n",
    "    ),\n",
    "    html.H6(\"Would you say you have longer or shorter conversations on average? The average is 10 minutes.\"),\n",
    "    dcc.Slider(\n",
    "        id='length--slider',\n",
    "        min=data.avg_length.min(),\n",
    "        max=data.avg_length.max(),\n",
    "        value=data.avg_length.min(),\n",
    "        marks={length: str(round(length / 66, 1)) for length in\n",
    "               np.arange(data.avg_length.min(), data.avg_length.max(), data.avg_length.std() /2 )\n",
    "              },\n",
    "        step=None\n",
    "    ),\n",
    "    html.Br(),\n",
    "    html.Div(id='my-output'),\n",
    "\n",
    "])\n",
    "\n",
    "\n",
    "@app.callback(\n",
    "    Output(component_id='my-output', component_property='children'),\n",
    "    [Input(component_id='gpa--slider', component_property='value'),\n",
    "     Input(component_id='length--slider', component_property='value')]\n",
    ")  \n",
    "def update_output_div(gpa_value, length_value):\n",
    "    pred = gbr_pickle.predict(\n",
    "        np.array([length_value, gpa_value]).reshape(1,-1)\n",
    "    )\n",
    "    pred = round(pred[0], 2)\n",
    "    return 'Your predicted spring GPA is: {}'.format(pred)\n",
    "\n",
    "\n",
    "if __name__ == '__main__':\n",
    "    app.run_server()"
   ]
  },
  {
   "cell_type": "code",
   "execution_count": null,
   "metadata": {},
   "outputs": [],
   "source": [
    "external_stylesheets = ['https://codepen.io/chriddyp/pen/bWLwgP.css']\n",
    "\n",
    "app = JupyterDash(__name__, external_stylesheets=external_stylesheets)\n",
    "\n",
    "fig = px.scatter(data, x=\"avg_length\", y=\"gpa_13s\")\n",
    "\n",
    "fig = fig.update_layout(transition_duration=500,\n",
    "                          yaxis=dict(range=[data.gpa_13s.min()-.1,\n",
    "                                            data.gpa_13s.max()+.1]))\n",
    "\n",
    "app.layout = html.Div([\n",
    "        dcc.Graph(\n",
    "        id='graph',\n",
    "        figure=fig\n",
    "    ),\n",
    "    html.Br(),\n",
    "    dcc.Slider(\n",
    "        id='gpa--slider',\n",
    "        min=data.gpa_all.min(),\n",
    "        max=data.gpa_all.max(),\n",
    "        value=data.avg_length.min(),\n",
    "        marks={gpa: str(round(gpa,1)) for gpa in np.arange(2.5, 4, .1)},\n",
    "        step=None\n",
    "    )\n",
    "])\n",
    "\n",
    "@app.callback(\n",
    "    Output(component_id='graph', component_property='figure'),\n",
    "    [Input(component_id='gpa--slider', component_property='value')]\n",
    ")  \n",
    "def update_figure(gpa_value):\n",
    "    filtered_df = data[(data.gpa_all > gpa_value - .25) &\n",
    "                       (data.gpa_all < gpa_value + .25)]\n",
    "\n",
    "    fig = px.scatter(filtered_df, x=\"avg_length\", y=\"gpa_13s\")\n",
    "\n",
    "    return fig\n",
    "\n",
    "\n",
    "if __name__ == '__main__':\n",
    "    app.run_server(mode='inline', debug=False)"
   ]
  },
  {
   "cell_type": "markdown",
   "metadata": {},
   "source": [
    "# Mental Health Prediction"
   ]
  },
  {
   "cell_type": "code",
   "execution_count": null,
   "metadata": {},
   "outputs": [],
   "source": [
    "data = convo.merge(post_survey, on='uid', how='inner')\n",
    "\n",
    "latlon_dummies = pd.get_dummies(\n",
    "    latlon[[\n",
    "   'overnight_primary_bld', 'overnight_primary_type',\n",
    "   'overnight_secondary_bld', 'overnight_secondary_type',\n",
    "   'daytime_primary_bld', 'daytime_primary_type', 'daytime_secondary_bld',\n",
    "   'daytime_secondary_type', 'daytime_tertiary_bld',\n",
    "   'daytime_tertiary_type', 'overnight_primary_cluster',\n",
    "   'overnight_secondary_cluster', 'daytime_primary_cluster',\n",
    "   'daytime_secondary_cluster', 'daytime_tertiary_cluster'\n",
    "    ]]\n",
    ")\n",
    "\n",
    "data = pd.concat([data, latlon_dummies], axis=1)\n",
    "\n",
    "data = data.merge(grades[['uid', 'gpa_13s']], on='uid', how='right').dropna()"
   ]
  },
  {
   "cell_type": "code",
   "execution_count": null,
   "metadata": {},
   "outputs": [],
   "source": [
    "not_in_X_vars = [\n",
    "    'uid','panas_pos_avg', 'panas_pos_sum', 'panas_neg_avg', 'panas_neg_sum',\n",
    "    'panas_net_avg', 'panas_net_sum', 'flourishing_avg', 'flourishing_sum',\n",
    "    'depression_avg', 'depression_sum', 'stress_avg', 'stress_sum', 'loneliness_avg',\n",
    "    'loneliness_sum', 'overnight_primary_cluster', 'overnight_secondary_cluster',\n",
    "    'daytime_primary_cluster', 'daytime_secondary_cluster', 'daytime_tertiary_cluster'\n",
    "]\n",
    "\n",
    "X = data.drop(columns=not_in_X_vars)\n",
    "\n",
    "y = data.depression_sum"
   ]
  },
  {
   "cell_type": "code",
   "execution_count": null,
   "metadata": {},
   "outputs": [],
   "source": [
    "%%time\n",
    "params = {'n_estimators': [194]}\n",
    "\n",
    "depr_rfr = generate_gridsearch(X, y, params)"
   ]
  },
  {
   "cell_type": "code",
   "execution_count": null,
   "metadata": {},
   "outputs": [],
   "source": []
  }
 ],
 "metadata": {
  "kernelspec": {
   "display_name": "Python 3",
   "language": "python",
   "name": "python3"
  },
  "language_info": {
   "codemirror_mode": {
    "name": "ipython",
    "version": 3
   },
   "file_extension": ".py",
   "mimetype": "text/x-python",
   "name": "python",
   "nbconvert_exporter": "python",
   "pygments_lexer": "ipython3",
   "version": "3.7.4"
  }
 },
 "nbformat": 4,
 "nbformat_minor": 2
}
