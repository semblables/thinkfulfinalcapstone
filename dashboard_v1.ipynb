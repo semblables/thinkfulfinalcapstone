{
 "cells": [
  {
   "cell_type": "code",
   "execution_count": 50,
   "metadata": {
    "scrolled": true
   },
   "outputs": [],
   "source": [
    "from zipfile import ZipFile\n",
    "from IPython.display import FileLink, FileLinks\n",
    "import os\n",
    "from pprint import pprint\n",
    "\n",
    "import pickle\n",
    "\n",
    "import time\n",
    "import pandas as pd\n",
    "from matplotlib import pyplot as plt\n",
    "import seaborn as sns\n",
    "import random\n",
    "import statistics as stats\n",
    "import numpy as np\n",
    "from scipy.stats import mstats\n",
    "import itertools\n",
    "import scipy.stats\n",
    "\n",
    "from sklearn.ensemble import RandomForestRegressor\n",
    "from sklearn.model_selection import GridSearchCV\n",
    "from sklearn.model_selection import cross_val_score\n",
    "from sklearn.metrics import mean_squared_error\n",
    "from sklearn import metrics\n",
    "from sklearn.model_selection import train_test_split\n",
    "from sklearn.preprocessing import StandardScaler\n",
    "\n",
    "from sklearn.linear_model import LinearRegression\n",
    "from sklearn.decomposition import PCA\n",
    "\n",
    "from statsmodels.stats.diagnostic import het_breuschpagan\n",
    "from statsmodels.api import OLS\n",
    "\n",
    "import dash\n",
    "from jupyter_dash import JupyterDash\n",
    "import dash_core_components as dcc\n",
    "import dash_html_components as html\n",
    "from dash.dependencies import Input, Output\n",
    "import plotly.express as px"
   ]
  },
  {
   "cell_type": "code",
   "execution_count": 1,
   "metadata": {},
   "outputs": [
    {
     "name": "stdout",
     "output_type": "stream",
     "text": [
      "{\r\n",
      "  \"message\": \"Not Found\",\r\n",
      "  \"documentation_url\": \"https://docs.github.com/rest\"\r\n",
      "}\r\n"
     ]
    }
   ],
   "source": [
    "! curl -u $semblables:$kantishnatokusadasi1491 -XDELETE https://api.github.com/repos/python-practice-with-datatypes-data-science-intro-000"
   ]
  },
  {
   "cell_type": "code",
   "execution_count": 51,
   "metadata": {},
   "outputs": [],
   "source": [
    "survey = pd.read_csv('/Users/kristiancanler/Documents/data/dartmouth_dataset/dataset/my_dfs/surveydata.csv')\n",
    "latlon = pd.read_csv('/Users/kristiancanler/Documents/data/dartmouth_dataset/dataset/my_dfs/latlon.csv')\n",
    "convo = pd.read_csv('/Users/kristiancanler/Documents/data/dartmouth_dataset/dataset/my_dfs/convos.csv')\n",
    "\n",
    "# This line can only be run once, or it will produce NaN\n",
    "survey.uid = survey.uid.str.split('u').str.get(1).astype(int)"
   ]
  },
  {
   "cell_type": "code",
   "execution_count": 52,
   "metadata": {},
   "outputs": [],
   "source": [
    "data = survey.merge(latlon, on='uid', how='outer')\n",
    "data = data.merge(convo, on='uid', how='outer')"
   ]
  },
  {
   "cell_type": "code",
   "execution_count": 53,
   "metadata": {},
   "outputs": [
    {
     "name": "stdout",
     "output_type": "stream",
     "text": [
      "No more missing values.\n"
     ]
    }
   ],
   "source": [
    "try:\n",
    "    data = data[~(data.uid==0)].drop(columns=['10x_per_day']).dropna()\n",
    "except:\n",
    "    print('Data already dropped')\n",
    "    \n",
    "if data.isnull().sum().sum() == 0:\n",
    "    print('No more missing values.')"
   ]
  },
  {
   "cell_type": "code",
   "execution_count": 54,
   "metadata": {},
   "outputs": [
    {
     "data": {
      "text/plain": [
       "1152"
      ]
     },
     "execution_count": 54,
     "metadata": {},
     "output_type": "execute_result"
    }
   ],
   "source": [
    "len(data)"
   ]
  },
  {
   "cell_type": "code",
   "execution_count": 55,
   "metadata": {},
   "outputs": [
    {
     "data": {
      "text/plain": [
       "686"
      ]
     },
     "execution_count": 55,
     "metadata": {},
     "output_type": "execute_result"
    }
   ],
   "source": [
    "path = '/Users/kristiancanler/Documents/data/dartmouth_dataset/dataset/education/grades.csv'\n",
    "grades = pd.read_csv(path)\n",
    "grades.uid = grades.uid.str.extract('(\\d\\d)').astype(int)\n",
    "len(grades)\n",
    "grades = data.merge(grades, on='uid', how='inner').dropna()\n",
    "len(grades)"
   ]
  },
  {
   "cell_type": "code",
   "execution_count": 68,
   "metadata": {},
   "outputs": [],
   "source": [
    "grades = pd.read_csv('/Users/kristiancanler/Documents/data/dartmouth_dataset/dataset/education/grades.csv')\n",
    "grades.uid = grades.uid.str.split('u').str.get(1).astype(int)\n",
    "grades = data.merge(grades, on='uid', how='inner').dropna()\n",
    "grades.columns = grades.columns.str.strip()\n",
    "\n",
    "# Dropping questions by slicing df twice and then concatenating\n",
    "slice_1 = grades.iloc[:, :2]\n",
    "slice_2 = grades.iloc[:, 47:]\n",
    "grades = pd.concat([slice_1, slice_2],\n",
    "                   axis=1)\n",
    "\n",
    "# Replacing spaces with underscores\n",
    "grades.columns = grades.columns.str.replace(' ', '_')\n",
    "\n",
    "# Showing all columns currently in df with index\n",
    "grades.columns\n",
    "\n",
    "# Renaming 'loneliness_average_y'\n",
    "grades.rename(\n",
    "    {'loneliness_average_y': 'loneliness_average'},\n",
    "    axis=1,\n",
    "    inplace=True\n",
    ")"
   ]
  },
  {
   "cell_type": "code",
   "execution_count": 69,
   "metadata": {},
   "outputs": [],
   "source": [
    "# Reducing again to relevant features\n",
    "grades_full = grades.copy()\n",
    "\n",
    "grades = grades[[\n",
    "    'loneliness_average', 'stress_average', 'depression_average',\n",
    "    'overnight_primary_bld', 'daytime_primary_bld', 'avg_length',\n",
    "    'num', 'kmeans0', 'kmeans1', 'kmeans2', 'kmeans3', 'kmeans4', 'gpa_all', 'uid'\n",
    "]]"
   ]
  },
  {
   "cell_type": "code",
   "execution_count": 70,
   "metadata": {},
   "outputs": [],
   "source": [
    "# Selecting categorical variables to create dummy variables for\n",
    "categorical_vars = ['overnight_primary_bld', 'daytime_primary_bld']\n",
    "\n",
    "# Generating and concatenating dummy variables with for lopp\n",
    "for var in categorical_vars:\n",
    "    dummies = pd.get_dummies(grades[var])\n",
    "    # Editing variable names to contain mother variable and the category (building)\n",
    "    dummies.columns = [var+str(col) for col in dummies.columns]\n",
    "    grades = pd.concat([grades, dummies],axis=1)"
   ]
  },
  {
   "cell_type": "code",
   "execution_count": 71,
   "metadata": {
    "scrolled": true
   },
   "outputs": [
    {
     "name": "stdout",
     "output_type": "stream",
     "text": [
      "3.401760932944612\n"
     ]
    },
    {
     "data": {
      "image/png": "[encoded data removed]",
      "text/plain": [
       "<Figure size 432x288 with 1 Axes>"
      ]
     },
     "metadata": {
      "needs_background": "light"
     },
     "output_type": "display_data"
    }
   ],
   "source": [
    "sns.distplot(grades.gpa_all)\n",
    "print(grades.gpa_all.mean())"
   ]
  },
  {
   "cell_type": "code",
   "execution_count": 72,
   "metadata": {},
   "outputs": [
    {
     "data": {
      "text/plain": [
       "0.3760932944606414"
      ]
     },
     "execution_count": 72,
     "metadata": {},
     "output_type": "execute_result"
    }
   ],
   "source": [
    "len(grades[grades.gpa_all < 3.4]) / len(grades)"
   ]
  },
  {
   "cell_type": "code",
   "execution_count": 73,
   "metadata": {},
   "outputs": [],
   "source": [
    "X = grades[[\n",
    " 'kmeans0',\n",
    " 'kmeans1'\n",
    "]]\n",
    "\n",
    "y_gpa = grades.gpa_all\n",
    "y_depression = grades.depression_average\n",
    "y_stress = grades.stress_average\n",
    "y_loneliness = grades.loneliness_average\n",
    "\n",
    "gpa_X_train, gpa_X_test, gpa_y_train, gpa_y_test = train_test_split(\n",
    "    X, y_gpa, train_size=.7\n",
    ")\n",
    "\n",
    "dpr_X_train, dpr_X_test, dpr_y_train, dpr_y_test = train_test_split(\n",
    "    X, y_depression, train_size=.7\n",
    ")\n",
    "\n",
    "str_X_train, str_X_test, str_y_train, str_y_test = train_test_split(\n",
    "    X, y_stress, train_size=.7\n",
    ")\n",
    "\n",
    "lln_X_train, lln_X_test, lln_y_train, lln_y_test = train_test_split(\n",
    "    X, y_loneliness, train_size=.7\n",
    ")"
   ]
  },
  {
   "cell_type": "code",
   "execution_count": 74,
   "metadata": {
    "scrolled": true
   },
   "outputs": [
    {
     "name": "stdout",
     "output_type": "stream",
     "text": [
      "0.9894166682516597\n",
      "{'max_depth': 13, 'max_leaf_nodes': 25, 'n_estimators': 40}\n"
     ]
    },
    {
     "data": {
      "text/plain": [
       "<matplotlib.axes._subplots.AxesSubplot at 0x11dae3b50>"
      ]
     },
     "execution_count": 74,
     "metadata": {},
     "output_type": "execute_result"
    },
    {
     "data": {
      "image/png": "[encoded data removed]",
      "text/plain": [
       "<Figure size 432x288 with 1 Axes>"
      ]
     },
     "metadata": {
      "needs_background": "light"
     },
     "output_type": "display_data"
    }
   ],
   "source": [
    "gpa_rfr = RandomForestRegressor(random_state=42)\n",
    "gpa_params = {'n_estimators': [40],\n",
    "              'max_depth': [13],\n",
    "              'max_leaf_nodes': [25]}\n",
    "gpa_gscv = GridSearchCV(gpa_rfr, gpa_params, cv=5)\n",
    "gpa_gscv.fit(gpa_X_train, gpa_y_train) # Why do these need to be split?\n",
    "preds = gpa_gscv.predict(gpa_X_test)\n",
    "print(gpa_gscv.best_score_)\n",
    "print(gpa_gscv.best_params_)\n",
    "sns.scatterplot(\n",
    "    x=preds,\n",
    "    y=gpa_y_test\n",
    ")"
   ]
  },
  {
   "cell_type": "code",
   "execution_count": 75,
   "metadata": {},
   "outputs": [
    {
     "data": {
      "text/plain": [
       "array([2.94185])"
      ]
     },
     "execution_count": 75,
     "metadata": {},
     "output_type": "execute_result"
    }
   ],
   "source": [
    "pred = gpa_gscv.predict(np.array([600, 2000]).reshape(1, -1))\n",
    "pred"
   ]
  },
  {
   "cell_type": "markdown",
   "metadata": {},
   "source": [
    "# Generating Models"
   ]
  },
  {
   "cell_type": "markdown",
   "metadata": {},
   "source": [
    "*Return to tune models.*"
   ]
  },
  {
   "cell_type": "code",
   "execution_count": 76,
   "metadata": {},
   "outputs": [],
   "source": [
    "def generate_gridsearch(X, y, params):\n",
    "    \n",
    "    X_train, X_test, y_train, y_test = train_test_split(\n",
    "         X,\n",
    "         y,\n",
    "         train_size=.7,\n",
    "         random_state=42\n",
    "    )\n",
    "    \n",
    "    rfr = RandomForestRegressor(random_state=42)\n",
    "    gscv = GridSearchCV(rfr, params, cv=5)\n",
    "    gscv.fit(X_train, y_train)\n",
    "    preds = gscv.predict(X_test)\n",
    "    \n",
    "    errors = preds - y_test\n",
    "    \n",
    "    print('Mean error %: ', abs(errors).mean())\n",
    "    print('Mean error raw: ', abs(errors).mean() * 4)\n",
    "    print('Best score: ', gscv.best_score_)\n",
    "    print('Best params: ', gscv.best_params_)\n",
    "    sns.scatterplot(\n",
    "        x=preds,\n",
    "        y=y_test\n",
    "    )\n",
    "    plt.plot()\n",
    "    \n",
    "    return gscv.best_estimator_"
   ]
  },
  {
   "cell_type": "markdown",
   "metadata": {},
   "source": [
    "**Predicting GPA with K-Means Conversation Clusters**"
   ]
  },
  {
   "cell_type": "code",
   "execution_count": 77,
   "metadata": {
    "scrolled": true
   },
   "outputs": [
    {
     "name": "stdout",
     "output_type": "stream",
     "text": [
      "Mean error %:  0.0019782336360803323\n",
      "Mean error raw:  0.00791293454432133\n",
      "Best score:  0.991731760729926\n",
      "Best params:  {'max_depth': 9, 'n_estimators': 31}\n"
     ]
    },
    {
     "data": {
      "image/png": "[encoded data removed]",
      "text/plain": [
       "<Figure size 432x288 with 1 Axes>"
      ]
     },
     "metadata": {
      "needs_background": "light"
     },
     "output_type": "display_data"
    }
   ],
   "source": [
    "params = {'n_estimators': [31],\n",
    "          'max_depth': [9]}\n",
    "kmeans_gpa_model = generate_gridsearch(\n",
    "    grades[['kmeans0', 'kmeans1', 'kmeans2',\n",
    "     'kmeans3', 'kmeans4']],\n",
    "    grades.gpa_all,\n",
    "    params\n",
    ")"
   ]
  },
  {
   "cell_type": "markdown",
   "metadata": {},
   "source": [
    "**Predicting GPA with Raw Conversation Data**"
   ]
  },
  {
   "cell_type": "code",
   "execution_count": 17,
   "metadata": {
    "scrolled": false
   },
   "outputs": [
    {
     "name": "stdout",
     "output_type": "stream",
     "text": [
      "Mean error %:  0.004822006472492241\n",
      "Mean error raw:  0.019288025889968963\n",
      "Best score:  0.9832875475320485\n",
      "Best params:  {'max_depth': 10, 'n_estimators': 3}\n"
     ]
    },
    {
     "data": {
      "image/png": "[encoded data removed]",
      "text/plain": [
       "<Figure size 432x288 with 1 Axes>"
      ]
     },
     "metadata": {
      "needs_background": "light"
     },
     "output_type": "display_data"
    }
   ],
   "source": [
    "params = {'n_estimators': [3],\n",
    "          'max_depth': [10]}\n",
    "raw_convo_gpa_model = generate_gridsearch(\n",
    "    grades[['num', 'avg_length']],\n",
    "    grades.gpa_all,\n",
    "    params\n",
    ")"
   ]
  },
  {
   "cell_type": "markdown",
   "metadata": {},
   "source": [
    "**Predicting GPA with Primary Overnight Cluster**"
   ]
  },
  {
   "cell_type": "code",
   "execution_count": 18,
   "metadata": {
    "scrolled": false
   },
   "outputs": [
    {
     "name": "stdout",
     "output_type": "stream",
     "text": [
      "Mean error %:  0.17985616967246823\n",
      "Mean error raw:  0.7194246786898729\n",
      "Best score:  0.39756521911061876\n",
      "Best params:  {'max_depth': 16, 'n_estimators': 80}\n"
     ]
    },
    {
     "data": {
      "image/png": "[encoded data removed]",
      "text/plain": [
       "<Figure size 432x288 with 1 Axes>"
      ]
     },
     "metadata": {
      "needs_background": "light"
     },
     "output_type": "display_data"
    }
   ],
   "source": [
    "overnight_pri_X_vars = ['overnight_primary_bldalpha_theta',\n",
    "    'overnight_primary_bldchanning_cox_hall', 'overnight_primary_bldchinese_house',\n",
    "    'overnight_primary_bldchoate_cluster', 'overnight_primary_bldcomputer_science_dept',\n",
    "    'overnight_primary_bldeast_wheelock_house', 'overnight_primary_bldepsilon_kappa_theta',\n",
    "    'overnight_primary_bldfayerweather_hall', 'overnight_primary_bldfrench/judge_hall',\n",
    "    'overnight_primary_bldgreek_webster_ave', 'overnight_primary_bldhouse_center_b',\n",
    "    'overnight_primary_bldmclaughlin_cluster', 'overnight_primary_bldnative_american_house',\n",
    "    'overnight_primary_bldnorth_park_house', 'overnight_primary_bldphi_tau',\n",
    "    'overnight_primary_bldschool_house', 'overnight_primary_bldsouth_house',\n",
    "    'overnight_primary_bldwest_house', 'overnight_primary_bldwheeler_hall']\n",
    "\n",
    "params = {'n_estimators': [80],\n",
    "          'max_depth': [16]}\n",
    "overnight_pri_gpa_model = generate_gridsearch(\n",
    "    grades[overnight_pri_X_vars],\n",
    "    grades.gpa_all,\n",
    "    params\n",
    ")"
   ]
  },
  {
   "cell_type": "markdown",
   "metadata": {},
   "source": [
    "**Predicting GPA with Primary Daytime Clusters**"
   ]
  },
  {
   "cell_type": "code",
   "execution_count": 19,
   "metadata": {
    "scrolled": false
   },
   "outputs": [
    {
     "name": "stdout",
     "output_type": "stream",
     "text": [
      "Mean error %:  0.0842826416663629\n",
      "Mean error raw:  0.3371305666654516\n",
      "Best score:  0.8272888011184502\n",
      "Best params:  {'max_depth': 16, 'n_estimators': 90}\n"
     ]
    },
    {
     "data": {
      "image/png": "[encoded data removed]",
      "text/plain": [
       "<Figure size 432x288 with 1 Axes>"
      ]
     },
     "metadata": {
      "needs_background": "light"
     },
     "output_type": "display_data"
    }
   ],
   "source": [
    "daytime_pri_X_vars = [\n",
    "    'daytime_primary_bldarts_center', 'daytime_primary_bldberry_library',\n",
    "       'daytime_primary_bldcollis_center',\n",
    "       'daytime_primary_bldcomputer_science_dept',\n",
    "       'daytime_primary_bldeast_hanover',\n",
    "       'daytime_primary_bldeast_wheelock_house',\n",
    "       'daytime_primary_bldfayerweather_hall',\n",
    "       'daytime_primary_bldgreek_webster_ave',\n",
    "       'daytime_primary_bldmaxwell_hall',\n",
    "       'daytime_primary_bldmclaughlin_cluster',\n",
    "       'daytime_primary_bldnorth_park_house', 'daytime_primary_bldphi_tau',\n",
    "       'daytime_primary_bldschool_house',\n",
    "       'daytime_primary_bldsigma_alpha_epsilon',\n",
    "       'daytime_primary_bldtriangle_house', 'daytime_primary_bldwest_house'\n",
    "]\n",
    "\n",
    "primary_latlon_cluster_X_vars = overnight_pri_X_vars + daytime_pri_X_vars\n",
    "\n",
    "params = {'n_estimators': [90],\n",
    "          'max_depth': list(range(2, 40, 2))}\n",
    "primary_latlon_cluster_gpa_model = generate_gridsearch(\n",
    "    grades[primary_latlon_cluster_X_vars],\n",
    "    grades.gpa_all,\n",
    "    params\n",
    ")"
   ]
  },
  {
   "cell_type": "markdown",
   "metadata": {},
   "source": [
    "**Predicting GPA with All Lat-lon Clusters**"
   ]
  },
  {
   "cell_type": "code",
   "execution_count": 20,
   "metadata": {},
   "outputs": [],
   "source": [
    "latlon_X = pd.get_dummies(grades_full[['overnight_secondary_bld', 'overnight_secondary_type',\n",
    "       'daytime_primary_bld', 'daytime_primary_type', 'daytime_secondary_bld',\n",
    "       'daytime_secondary_type', 'daytime_tertiary_bld',\n",
    "       'daytime_tertiary_type', 'overnight_primary_cluster',\n",
    "       'overnight_secondary_cluster', 'daytime_primary_cluster',\n",
    "       'daytime_secondary_cluster', 'daytime_tertiary_cluster']])"
   ]
  },
  {
   "cell_type": "code",
   "execution_count": 45,
   "metadata": {
    "scrolled": false
   },
   "outputs": [
    {
     "ename": "AttributeError",
     "evalue": "'DataFrame' object has no attribute 'gpa_all'",
     "output_type": "error",
     "traceback": [
      "\u001b[0;31m---------------------------------------------------------------------------\u001b[0m",
      "\u001b[0;31mAttributeError\u001b[0m                            Traceback (most recent call last)",
      "\u001b[0;32m<ipython-input-45-9f225198d125>\u001b[0m in \u001b[0;36m<module>\u001b[0;34m\u001b[0m\n\u001b[1;32m      4\u001b[0m latlon_gpa_model = generate_gridsearch(\n\u001b[1;32m      5\u001b[0m     \u001b[0mlatlon_X\u001b[0m\u001b[0;34m,\u001b[0m\u001b[0;34m\u001b[0m\u001b[0;34m\u001b[0m\u001b[0m\n\u001b[0;32m----> 6\u001b[0;31m     \u001b[0mgrades\u001b[0m\u001b[0;34m.\u001b[0m\u001b[0mgpa_all\u001b[0m\u001b[0;34m,\u001b[0m\u001b[0;34m\u001b[0m\u001b[0;34m\u001b[0m\u001b[0m\n\u001b[0m\u001b[1;32m      7\u001b[0m     \u001b[0mparams\u001b[0m\u001b[0;34m\u001b[0m\u001b[0;34m\u001b[0m\u001b[0m\n\u001b[1;32m      8\u001b[0m )\n",
      "\u001b[0;32m/opt/anaconda3/lib/python3.7/site-packages/pandas/core/generic.py\u001b[0m in \u001b[0;36m__getattr__\u001b[0;34m(self, name)\u001b[0m\n\u001b[1;32m   5177\u001b[0m             \u001b[0;32mif\u001b[0m \u001b[0mself\u001b[0m\u001b[0;34m.\u001b[0m\u001b[0m_info_axis\u001b[0m\u001b[0;34m.\u001b[0m\u001b[0m_can_hold_identifiers_and_holds_name\u001b[0m\u001b[0;34m(\u001b[0m\u001b[0mname\u001b[0m\u001b[0;34m)\u001b[0m\u001b[0;34m:\u001b[0m\u001b[0;34m\u001b[0m\u001b[0;34m\u001b[0m\u001b[0m\n\u001b[1;32m   5178\u001b[0m                 \u001b[0;32mreturn\u001b[0m \u001b[0mself\u001b[0m\u001b[0;34m[\u001b[0m\u001b[0mname\u001b[0m\u001b[0;34m]\u001b[0m\u001b[0;34m\u001b[0m\u001b[0;34m\u001b[0m\u001b[0m\n\u001b[0;32m-> 5179\u001b[0;31m             \u001b[0;32mreturn\u001b[0m \u001b[0mobject\u001b[0m\u001b[0;34m.\u001b[0m\u001b[0m__getattribute__\u001b[0m\u001b[0;34m(\u001b[0m\u001b[0mself\u001b[0m\u001b[0;34m,\u001b[0m \u001b[0mname\u001b[0m\u001b[0;34m)\u001b[0m\u001b[0;34m\u001b[0m\u001b[0;34m\u001b[0m\u001b[0m\n\u001b[0m\u001b[1;32m   5180\u001b[0m \u001b[0;34m\u001b[0m\u001b[0m\n\u001b[1;32m   5181\u001b[0m     \u001b[0;32mdef\u001b[0m \u001b[0m__setattr__\u001b[0m\u001b[0;34m(\u001b[0m\u001b[0mself\u001b[0m\u001b[0;34m,\u001b[0m \u001b[0mname\u001b[0m\u001b[0;34m,\u001b[0m \u001b[0mvalue\u001b[0m\u001b[0;34m)\u001b[0m\u001b[0;34m:\u001b[0m\u001b[0;34m\u001b[0m\u001b[0;34m\u001b[0m\u001b[0m\n",
      "\u001b[0;31mAttributeError\u001b[0m: 'DataFrame' object has no attribute 'gpa_all'"
     ]
    }
   ],
   "source": [
    "params = {'n_estimators': [114],\n",
    "          'max_depth': [17]}\n",
    "\n",
    "latlon_gpa_model = generate_gridsearch(\n",
    "    latlon_X,\n",
    "    grades.gpa_all,\n",
    "    params\n",
    ")"
   ]
  },
  {
   "cell_type": "markdown",
   "metadata": {},
   "source": [
    "**Predicting Depression with All Lat-lon Clusters**"
   ]
  },
  {
   "cell_type": "code",
   "execution_count": 22,
   "metadata": {},
   "outputs": [],
   "source": [
    "post_latlon_X = pd.get_dummies(\n",
    "    grades_full.loc[grades_full.type=='post',\n",
    "        ['overnight_secondary_bld', 'overnight_secondary_type',\n",
    "       'daytime_primary_bld', 'daytime_primary_type', 'daytime_secondary_bld',\n",
    "       'daytime_secondary_type', 'daytime_tertiary_bld',\n",
    "       'daytime_tertiary_type', 'overnight_primary_cluster',\n",
    "       'overnight_secondary_cluster', 'daytime_primary_cluster',\n",
    "       'daytime_secondary_cluster', 'daytime_tertiary_cluster']\n",
    "                   ]\n",
    ")"
   ]
  },
  {
   "cell_type": "code",
   "execution_count": 23,
   "metadata": {},
   "outputs": [
    {
     "ename": "AttributeError",
     "evalue": "'DataFrame' object has no attribute 'type'",
     "output_type": "error",
     "traceback": [
      "\u001b[0;31m---------------------------------------------------------------------------\u001b[0m",
      "\u001b[0;31mAttributeError\u001b[0m                            Traceback (most recent call last)",
      "\u001b[0;32m<ipython-input-23-08a9c830340a>\u001b[0m in \u001b[0;36m<module>\u001b[0;34m\u001b[0m\n\u001b[1;32m      4\u001b[0m post_latlon_depr_model = generate_gridsearch(\n\u001b[1;32m      5\u001b[0m     \u001b[0mpost_latlon_X\u001b[0m\u001b[0;34m,\u001b[0m\u001b[0;34m\u001b[0m\u001b[0;34m\u001b[0m\u001b[0m\n\u001b[0;32m----> 6\u001b[0;31m     \u001b[0mgrades\u001b[0m\u001b[0;34m.\u001b[0m\u001b[0mloc\u001b[0m\u001b[0;34m[\u001b[0m\u001b[0mgrades\u001b[0m\u001b[0;34m.\u001b[0m\u001b[0mtype\u001b[0m\u001b[0;34m==\u001b[0m\u001b[0;34m'post'\u001b[0m\u001b[0;34m,\u001b[0m \u001b[0;34m'depression_average'\u001b[0m\u001b[0;34m]\u001b[0m\u001b[0;34m,\u001b[0m\u001b[0;34m\u001b[0m\u001b[0;34m\u001b[0m\u001b[0m\n\u001b[0m\u001b[1;32m      7\u001b[0m     \u001b[0mparams\u001b[0m\u001b[0;34m\u001b[0m\u001b[0;34m\u001b[0m\u001b[0m\n\u001b[1;32m      8\u001b[0m )\n",
      "\u001b[0;32m/opt/anaconda3/lib/python3.7/site-packages/pandas/core/generic.py\u001b[0m in \u001b[0;36m__getattr__\u001b[0;34m(self, name)\u001b[0m\n\u001b[1;32m   5177\u001b[0m             \u001b[0;32mif\u001b[0m \u001b[0mself\u001b[0m\u001b[0;34m.\u001b[0m\u001b[0m_info_axis\u001b[0m\u001b[0;34m.\u001b[0m\u001b[0m_can_hold_identifiers_and_holds_name\u001b[0m\u001b[0;34m(\u001b[0m\u001b[0mname\u001b[0m\u001b[0;34m)\u001b[0m\u001b[0;34m:\u001b[0m\u001b[0;34m\u001b[0m\u001b[0;34m\u001b[0m\u001b[0m\n\u001b[1;32m   5178\u001b[0m                 \u001b[0;32mreturn\u001b[0m \u001b[0mself\u001b[0m\u001b[0;34m[\u001b[0m\u001b[0mname\u001b[0m\u001b[0;34m]\u001b[0m\u001b[0;34m\u001b[0m\u001b[0;34m\u001b[0m\u001b[0m\n\u001b[0;32m-> 5179\u001b[0;31m             \u001b[0;32mreturn\u001b[0m \u001b[0mobject\u001b[0m\u001b[0;34m.\u001b[0m\u001b[0m__getattribute__\u001b[0m\u001b[0;34m(\u001b[0m\u001b[0mself\u001b[0m\u001b[0;34m,\u001b[0m \u001b[0mname\u001b[0m\u001b[0;34m)\u001b[0m\u001b[0;34m\u001b[0m\u001b[0;34m\u001b[0m\u001b[0m\n\u001b[0m\u001b[1;32m   5180\u001b[0m \u001b[0;34m\u001b[0m\u001b[0m\n\u001b[1;32m   5181\u001b[0m     \u001b[0;32mdef\u001b[0m \u001b[0m__setattr__\u001b[0m\u001b[0;34m(\u001b[0m\u001b[0mself\u001b[0m\u001b[0;34m,\u001b[0m \u001b[0mname\u001b[0m\u001b[0;34m,\u001b[0m \u001b[0mvalue\u001b[0m\u001b[0;34m)\u001b[0m\u001b[0;34m:\u001b[0m\u001b[0;34m\u001b[0m\u001b[0;34m\u001b[0m\u001b[0m\n",
      "\u001b[0;31mAttributeError\u001b[0m: 'DataFrame' object has no attribute 'type'"
     ]
    }
   ],
   "source": [
    "params = {'n_estimators': [193],\n",
    "          'max_depth': [17]}\n",
    "\n",
    "post_latlon_depr_model = generate_gridsearch(\n",
    "    post_latlon_X,\n",
    "    grades.loc[grades.type=='post', 'depression_average'],\n",
    "    params\n",
    ")"
   ]
  },
  {
   "cell_type": "markdown",
   "metadata": {},
   "source": [
    "**Predicting Stress with All Lat-lon Clusters**"
   ]
  },
  {
   "cell_type": "code",
   "execution_count": null,
   "metadata": {
    "scrolled": true
   },
   "outputs": [],
   "source": [
    "params = {'n_estimators': [170],\n",
    "          'max_depth': [4]}\n",
    "\n",
    "post_latlon_stress_model = generate_gridsearch(\n",
    "    post_latlon_X,\n",
    "    grades.loc[grades.type=='post', 'stress_average'],\n",
    "    params\n",
    ")"
   ]
  },
  {
   "cell_type": "markdown",
   "metadata": {},
   "source": [
    "**Predicting Loneliness with All Lat-lon Clusters**"
   ]
  },
  {
   "cell_type": "code",
   "execution_count": null,
   "metadata": {},
   "outputs": [],
   "source": [
    "params = {'n_estimators': [158],\n",
    "          'max_depth': [10]}\n",
    "\n",
    "post_latlon_loneliness_model = generate_gridsearch(\n",
    "    post_latlon_X,\n",
    "    grades.loc[grades.type=='post', 'loneliness_average'],\n",
    "    params\n",
    ")"
   ]
  },
  {
   "cell_type": "code",
   "execution_count": null,
   "metadata": {
    "scrolled": false
   },
   "outputs": [],
   "source": [
    "grades['type'] = grades_full.type\n",
    "\n",
    "pre_survey_X = grades.loc[\n",
    "    grades.type=='pre',\n",
    "    ['loneliness_average', 'stress_average', 'depression_average']\n",
    "]\n",
    "\n",
    "params = {'n_estimators': [132],\n",
    "          'max_depth': [13]}\n",
    "survey_gpa_model = generate_gridsearch(\n",
    "    pre_survey_X,\n",
    "    grades.loc[grades.type=='pre', 'gpa_all'],\n",
    "    params\n",
    ")"
   ]
  },
  {
   "cell_type": "markdown",
   "metadata": {},
   "source": [
    "# Creating Dash Web App"
   ]
  },
  {
   "cell_type": "code",
   "execution_count": null,
   "metadata": {},
   "outputs": [],
   "source": [
    "pickle.dump(raw_convo_gpa_model, open(\"raw_convo_gpa_model.py\", \"wb\"))\n",
    "\n",
    "file = open(\"raw_convo_gpa_model.py\", 'rb')\n",
    "rfr_pickle = pickle.load(file)\n",
    "\n",
    "rfr_pickle.score(\n",
    "    grades[['num', 'avg_length']], grades.gpa_all)"
   ]
  },
  {
   "cell_type": "code",
   "execution_count": null,
   "metadata": {
    "scrolled": false
   },
   "outputs": [],
   "source": [
    "external_stylesheets = ['https://codepen.io/chriddyp/pen/bWLwgP.css']\n",
    "\n",
    "app = JupyterDash(__name__, external_stylesheets=external_stylesheets)\n",
    "\n",
    "diff = max(grades.num) - min(grades.num)\n",
    "marks_spacing = range(min(grades.num), max(grades.num), int(diff/10))\n",
    "\n",
    "fig = px.scatter(grades, x='uid', y='gpa_all')\n",
    "\n",
    "# fig.update_layout(\n",
    "#     plot_bgcolor=colors['background'],\n",
    "#     paper_bgcolor=colors['background'],\n",
    "#     font_color=colors['text']\n",
    "# )\n",
    "\n",
    "app.layout = html.Div([\n",
    "    \n",
    "    dcc.Graph(id='graph-with-slider'),\n",
    "    \n",
    "    dcc.Slider(\n",
    "        id='length--slider',\n",
    "        min=grades.num.min(),\n",
    "        max=grades.num.max(),\n",
    "        value=grades.num.min(),\n",
    "        marks={marks_space:marks_space for marks_space in marks_spacing},\n",
    "        step=None\n",
    "    ),\n",
    "    \n",
    "    html.H1(\"Simple input example\"),\n",
    "    html.Div(id='result')\n",
    "    ])\n",
    "\n",
    "\n",
    "@app.callback(\n",
    "    Output('result', 'children'),\n",
    "    [Input('input-x', 'value'),\n",
    "     Input('input-y', 'value')]\n",
    ") \n",
    "\n",
    "def update_result(x, y):\n",
    "    return \"The sum is: {}\".format(x + y)\n",
    "\n",
    "@app.callback(\n",
    "    Output('graph-with-slider', 'figure'),\n",
    "    [Input('num-slider', 'value')])\n",
    "\n",
    "def update_figure(selected_num):\n",
    "    filtered_df = grades[(grades.num > selected_num - 330) &\n",
    "                         (grades.num < selected_num + 330)]\n",
    "\n",
    "    fig = px.scatter(filtered_df,\n",
    "                     x=\"avg_length\",\n",
    "                     y=\"gpa_all\", \n",
    "#                      size=\"pop\",\n",
    "                     color='uid',\n",
    "                     hover_name=\"gpa_all\", \n",
    "                     range_x=[min(grades.avg_length) - 10, max(grades.avg_length) + 10],\n",
    "                     range_y=[min(grades.gpa_all) - .1, max(grades.gpa_all) + .1],\n",
    "                     log_x=False,\n",
    "                     size_max=55)\n",
    "\n",
    "    fig.update_layout(transition_duration=500)\n",
    "\n",
    "    return fig\n",
    "\n",
    "@app.callback(\n",
    "    Output('my-output-num', 'value'),\n",
    "    [Input('num-slider', 'value')])\n",
    "\n",
    "def update_pred(selected_num):\n",
    "    pred = rfr_pickle.predict(np.array([selected_num, 675.5922998]).reshape(1, -1))\n",
    "    return pred\n",
    "\n",
    "if __name__ == '__main__':\n",
    "    app.run_server(mode='inline',\n",
    "                   debug=False)"
   ]
  },
  {
   "cell_type": "code",
   "execution_count": null,
   "metadata": {},
   "outputs": [],
   "source": []
  }
 ],
 "metadata": {
  "kernelspec": {
   "display_name": "Python 3",
   "language": "python",
   "name": "python3"
  },
  "language_info": {
   "codemirror_mode": {
    "name": "ipython",
    "version": 3
   },
   "file_extension": ".py",
   "mimetype": "text/x-python",
   "name": "python",
   "nbconvert_exporter": "python",
   "pygments_lexer": "ipython3",
   "version": "3.7.4"
  }
 },
 "nbformat": 4,
 "nbformat_minor": 2
}
